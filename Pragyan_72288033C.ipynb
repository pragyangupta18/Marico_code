{
 "cells": [
  {
   "cell_type": "markdown",
   "metadata": {
    "id": "Hout26ItXF5K"
   },
   "source": [
    "\n",
    "\n",
    "##### 1. Change following string 'ghatkopar' to 'GHATKOPAR' and 'dnyaneshwar jagtap' to 'Dnyaneshwar Jagtap'"
   ]
  },
  {
   "cell_type": "code",
   "execution_count": 1,
   "metadata": {
    "colab": {
     "base_uri": "https://localhost:8080/"
    },
    "id": "jAWhKPWvXF5L",
    "outputId": "f78cec29-5f19-494f-a483-ed4fba07f088"
   },
   "outputs": [
    {
     "name": "stdout",
     "output_type": "stream",
     "text": [
      "GHATKOPAR\n",
      "Dnyaneshwar Jagtap\n"
     ]
    }
   ],
   "source": [
    "def transform_strings(a):\n",
    "    if a == 'ghatkopar':\n",
    "        return 'GHATKOPAR'\n",
    "    elif a == 'dnyaneshwar jagtap':\n",
    "        return 'Dnyaneshwar Jagtap'\n",
    "    return a\n",
    "\n",
    "print(transform_strings('ghatkopar'))\n",
    "print(transform_strings('dnyaneshwar jagtap'))"
   ]
  },
  {
   "cell_type": "markdown",
   "metadata": {
    "id": "QuOlZpf3XF5L"
   },
   "source": [
    "#### 2. write a program to reverse the string \"abcde1234\" without using any slicers (eg. a[::]) or inbuilt function"
   ]
  },
  {
   "cell_type": "code",
   "execution_count": 2,
   "metadata": {
    "colab": {
     "base_uri": "https://localhost:8080/"
    },
    "id": "Gci_TzbzXF5M",
    "outputId": "361fc321-ec90-43d5-9a8d-f40dfd58e2ff"
   },
   "outputs": [
    {
     "name": "stdout",
     "output_type": "stream",
     "text": [
      "4321edcba\n"
     ]
    }
   ],
   "source": [
    "def reverse_string(s):\n",
    "    s = list(s)\n",
    "    left = 0\n",
    "    right = len(s) - 1\n",
    "    while left < right:\n",
    "        s[left], s[right] = s[right], s[left]\n",
    "        left += 1\n",
    "        right -= 1\n",
    "    return ''.join(s)\n",
    "\n",
    "original_string = \"abcde1234\"\n",
    "reversed_string = reverse_string(original_string)\n",
    "print(reversed_string)"
   ]
  },
  {
   "cell_type": "markdown",
   "metadata": {
    "id": "URB_qD26XF5M"
   },
   "source": [
    "#### 3. Sorting\n",
    "\n",
    "Find the second largest number in an given array , without using any inbuilt function like sort() etc\\\n",
    "Given array as follows:\\\n",
    "array1 = [10,5,7,99,67]\\\n",
    "array2 = [11,102,38,90382,39,42,942,983]\\\n",
    "array3 = [726,48,12,46,89,43,2346,789]"
   ]
  },
  {
   "cell_type": "code",
   "execution_count": 3,
   "metadata": {
    "colab": {
     "base_uri": "https://localhost:8080/"
    },
    "id": "MsnqDlAEXF5M",
    "outputId": "6982a5bb-5229-4bbe-ae10-e79430127bb0"
   },
   "outputs": [
    {
     "name": "stdout",
     "output_type": "stream",
     "text": [
      "Second largest in array1: 67\n",
      "Second largest in array2: 983\n",
      "Second largest in array3: 789\n"
     ]
    }
   ],
   "source": [
    "def second_largest(arr):\n",
    "    if len(arr) < 2:\n",
    "        return None\n",
    "    first, second = float('-inf'), float('-inf')\n",
    "    for number in arr:\n",
    "        if number > first:\n",
    "            second = first\n",
    "            first = number\n",
    "        elif number > second and number != first:\n",
    "            second = number\n",
    "    return second\n",
    "\n",
    "array1 = [10, 5, 7, 99, 67]\n",
    "array2 = [11, 102, 38, 90382, 39, 42, 942, 983]\n",
    "array3 = [726, 48, 12, 46, 89, 43, 2346, 789]\n",
    "\n",
    "print(f\"Second largest in array1: {second_largest(array1)}\")\n",
    "print(f\"Second largest in array2: {second_largest(array2)}\")\n",
    "print(f\"Second largest in array3: {second_largest(array3)}\")\n"
   ]
  },
  {
   "cell_type": "markdown",
   "metadata": {
    "id": "9FFxdafKXF5M"
   },
   "source": [
    "#### 4. Write a program to print the following pattern\n",
    "\n",
    "&nbsp;&nbsp;&nbsp;&nbsp;&nbsp;&nbsp;&nbsp;&nbsp;1\\\n",
    "&nbsp;&nbsp;&nbsp;&nbsp;&nbsp;&nbsp;11\\\n",
    "&nbsp;&nbsp;&nbsp;&nbsp;111\\\n",
    "&nbsp;&nbsp;1111\\\n",
    "11111"
   ]
  },
  {
   "cell_type": "code",
   "execution_count": 4,
   "metadata": {
    "colab": {
     "base_uri": "https://localhost:8080/"
    },
    "id": "1Q1WnP_pXF5N",
    "outputId": "8f7f24bc-5701-40fd-bc23-34cbf7548073"
   },
   "outputs": [
    {
     "name": "stdout",
     "output_type": "stream",
     "text": [
      "    1\n",
      "   11\n",
      "  111\n",
      " 1111\n",
      "11111\n"
     ]
    }
   ],
   "source": [
    "def print_pattern(n):\n",
    "    for i in range(1, n + 1):\n",
    "        print(' ' * (n - i), end='')\n",
    "        print('1' * i)\n",
    "\n",
    "n = 5\n",
    "print_pattern(n)\n"
   ]
  },
  {
   "cell_type": "markdown",
   "metadata": {
    "id": "BH6MPjSVXF5N"
   },
   "source": [
    "#### 5. Given a string s1, write a program to return the sum and average of the digits that appear in the string and count all other characters.\n",
    "s1 = \"PYnative29@#8496\""
   ]
  },
  {
   "cell_type": "code",
   "execution_count": 5,
   "metadata": {
    "colab": {
     "base_uri": "https://localhost:8080/"
    },
    "id": "v0kHFsDgXF5N",
    "outputId": "eb67b097-cefa-4e06-cbda-cfe4e0db8bca"
   },
   "outputs": [
    {
     "name": "stdout",
     "output_type": "stream",
     "text": [
      "Sum of digits: 38\n",
      "Average of digits: 6.333333333333333\n",
      "Count of other characters: 10\n"
     ]
    }
   ],
   "source": [
    "def sum_and_average(s1):\n",
    "    digit_sum = 0\n",
    "    digit_count = 0\n",
    "    non_digit_count = 0\n",
    "\n",
    "    for char in s1:\n",
    "        if char.isdigit():\n",
    "            digit_sum += int(char)\n",
    "            digit_count += 1\n",
    "        else:\n",
    "            non_digit_count += 1\n",
    "\n",
    "    if digit_count > 0:\n",
    "        digit_avg = digit_sum / digit_count\n",
    "    else:\n",
    "        digit_avg = 0\n",
    "\n",
    "    return digit_sum, digit_avg, non_digit_count\n",
    "\n",
    "s1 = \"PYnative29@#8496\"\n",
    "digit_sum, digit_avg, non_digit_count = sum_and_average(s1)\n",
    "print(f\"Sum of digits: {digit_sum}\")\n",
    "print(f\"Average of digits: {digit_avg}\")\n",
    "print(f\"Count of other characters: {non_digit_count}\")\n"
   ]
  },
  {
   "cell_type": "markdown",
   "metadata": {
    "id": "OfkYbTNnXF5N"
   },
   "source": [
    "#### 6. Calculate the transpose of a matrix.\n",
    "\n",
    "matrix = [[1, 2, 3],\\\n",
    "&nbsp;&nbsp;&nbsp;&nbsp;&nbsp;&nbsp;&nbsp;&nbsp;&nbsp;&nbsp;&nbsp;&nbsp;&nbsp;&nbsp;         [4, 5, 6],\\\n",
    "&nbsp;&nbsp;&nbsp;&nbsp;&nbsp;&nbsp;&nbsp;&nbsp;&nbsp;&nbsp;&nbsp;&nbsp;&nbsp;&nbsp;          [7, 8, 9]]"
   ]
  },
  {
   "cell_type": "code",
   "execution_count": 6,
   "metadata": {
    "colab": {
     "base_uri": "https://localhost:8080/"
    },
    "id": "K9twjCiOXF5N",
    "outputId": "617f03d6-f4a6-4ffc-f369-d4ef829332ee"
   },
   "outputs": [
    {
     "name": "stdout",
     "output_type": "stream",
     "text": [
      "[1, 4, 7]\n",
      "[2, 5, 8]\n",
      "[3, 6, 9]\n"
     ]
    }
   ],
   "source": [
    "def transpose_matrix(matrix):\n",
    "    n = len(matrix)\n",
    "    for i in range(n):\n",
    "        for j in range(i + 1, n):\n",
    "            matrix[i][j], matrix[j][i] = matrix[j][i], matrix[i][j]\n",
    "\n",
    "matrix = [\n",
    "    [1, 2, 3],\n",
    "    [4, 5, 6],\n",
    "    [7, 8, 9]\n",
    "]\n",
    "\n",
    "transpose_matrix(matrix)\n",
    "for row in matrix:\n",
    "    print(row)\n"
   ]
  },
  {
   "cell_type": "markdown",
   "metadata": {
    "id": "7NgaA-lSXF5N"
   },
   "source": [
    "### 7. Number of Good Pair\n",
    "**Given an array of integers nums, return the number of good pairs.**<BR>\n",
    "**A pair (i, j) is called good if nums[i] == nums[j] and i < j.**\n",
    "\n",
    "*Example 1:*\n",
    "*Input: nums = [1,2,3,1,1,3]<br>*\n",
    "*Output: 4<br>*\n",
    "*Explanation: There are 4 good pairs (0,3), (0,4), (3,4), (2,5) 0-indexed.<br>*\n",
    "\n",
    "*Example 2:<br>*\n",
    "*Input: nums = [1,1,1,1]<br>*\n",
    "*Output: 6<br>*\n",
    "*Explanation: Each pair in the array are good.<br>*\n",
    "\n",
    "*Example 3:<br>*\n",
    "*Input: nums = [1,2,3]<br>*\n",
    "*Output: 0<br>*\n",
    "\n",
    "Constraints:<br>\n",
    "1 <= nums.length <= 100<br>\n",
    "1 <= nums[i] <= 100<br>\n",
    "\n",
    "run your code for given below example:<br>\n",
    "\n",
    "[1,2,3,1,13]<br>\n",
    "[1,2,2,1]<br>\n",
    "[1,1,2,3,1,2,1,3,2,1]"
   ]
  },
  {
   "cell_type": "code",
   "execution_count": 7,
   "metadata": {
    "colab": {
     "base_uri": "https://localhost:8080/"
    },
    "id": "UDlZ9VsqXF5O",
    "outputId": "6927f369-109a-4faa-f4f8-551924618380"
   },
   "outputs": [
    {
     "name": "stdout",
     "output_type": "stream",
     "text": [
      "1\n",
      "2\n",
      "14\n"
     ]
    }
   ],
   "source": [
    "def num_good_pairs(nums):\n",
    "    count = {}\n",
    "    good_pairs = 0\n",
    "\n",
    "    for num in nums:\n",
    "        if num in count:\n",
    "            good_pairs += count[num]\n",
    "            count[num] += 1\n",
    "        else:\n",
    "            count[num] = 1\n",
    "\n",
    "    return good_pairs\n",
    "\n",
    "nums1 = [1, 2, 3, 1, 13]\n",
    "nums2 = [1, 2, 2, 1]\n",
    "nums3 = [1, 1, 2, 3, 1, 2, 1, 3, 2, 1]\n",
    "\n",
    "print(num_good_pairs(nums1))\n",
    "print(num_good_pairs(nums2))\n",
    "print(num_good_pairs(nums3))\n"
   ]
  },
  {
   "cell_type": "markdown",
   "metadata": {
    "id": "W1kVSDyIXF5O"
   },
   "source": [
    "#### 8. Roman numeral\n",
    "\n",
    "**Roman numerals are represented by seven different symbols: I, V, X, L, C, D and M.**<br>\n",
    "| Symbol   |   Value |\n",
    "|----------|---------|\n",
    "| I        |       1 |\n",
    "| V        |       5 |\n",
    "| X        |      10 |\n",
    "| L        |      50 |\n",
    "| C        |     100 |\n",
    "| D        |     500 |\n",
    "| M        |    1000 |\n",
    "\n",
    "For example, 2 is written as II in Roman numeral, just two ones added together. 12 is written as XII, which is simply X + II. The number 27 is written as XXVII, which is XX + V + II.<br>\n",
    "Roman numerals are usually written largest to smallest from left to right. However, the numeral for four is not IIII. Instead, the number four is written as IV. Because the one is before the five we subtract it making four. The same principle applies to the number nine, which is written as IX. There are six instances where subtraction is used:\n",
    "\n",
    "I can be placed before V (5) and X (10) to make 4 and 9.<br>\n",
    "X can be placed before L (50) and C (100) to make 40 and 90.<br>\n",
    "C can be placed before D (500) and M (1000) to make 400 and 900.<br>\n",
    "Given a roman numeral, convert it to an integer.<br>\n",
    "\n",
    "Example 1:<br>\n",
    "Input: s = \"III\"<br>\n",
    "Output: 3<br>\n",
    "Explanation: III = 3.<br>\n",
    "\n",
    "Example 2:<br>\n",
    "Input: s = \"LVIII\"<br>\n",
    "Output: 58<br>\n",
    "Explanation: L = 50, V= 5, III = 3.<br>\n",
    "\n",
    "Example 3:<br>\n",
    "Input: s = \"MCMXCIV\"<br>\n",
    "Output: 1994<br>\n",
    "Explanation: M = 1000, CM = 900, XC = 90 and IV = 4.<br>\n",
    "\n",
    "Constraints:<br>\n",
    "1 <= s.length <= 15<br>\n",
    "s contains only the characters ('I', 'V', 'X', 'L', 'C', 'D', 'M').<br>\n",
    "It is guaranteed that s is a valid roman numeral in the range [1, 3999].<br>\n",
    "\n",
    "Generate Output for following example:\n",
    "\n",
    "1) MCD\n",
    "2) MCMXCI\n",
    "3) CIV"
   ]
  },
  {
   "cell_type": "code",
   "execution_count": 8,
   "metadata": {
    "colab": {
     "base_uri": "https://localhost:8080/"
    },
    "id": "gjh68EwmXF5P",
    "outputId": "cd3ce4d7-7112-46ec-af1e-31cee9d97ee2"
   },
   "outputs": [
    {
     "name": "stdout",
     "output_type": "stream",
     "text": [
      "1400\n",
      "1991\n",
      "104\n"
     ]
    }
   ],
   "source": [
    "def romanToInt(s):\n",
    "    roman_vals = {'I': 1, 'V': 5, 'X': 10, 'L': 50,\n",
    "                  'C': 100, 'D': 500, 'M': 1000}\n",
    "    result = 0\n",
    "\n",
    "    for i in range(len(s)):\n",
    "        if i + 1 < len(s) and roman_vals[s[i]] < roman_vals[s[i + 1]]:\n",
    "            result -= roman_vals[s[i]]\n",
    "        else:\n",
    "            result += roman_vals[s[i]]\n",
    "\n",
    "    return result\n",
    "\n",
    "print(romanToInt(\"MCD\"))\n",
    "print(romanToInt(\"MCMXCI\"))\n",
    "print(romanToInt(\"CIV\"))\n"
   ]
  },
  {
   "cell_type": "markdown",
   "metadata": {
    "id": "D5RABIxfXF5P"
   },
   "source": [
    "#### 9. Make code error free"
   ]
  },
  {
   "cell_type": "code",
   "execution_count": 9,
   "metadata": {
    "colab": {
     "base_uri": "https://localhost:8080/"
    },
    "id": "yiorIE80XF5P",
    "outputId": "51778390-f80f-4127-a4a6-5fb83097378c"
   },
   "outputs": [
    {
     "name": "stdout",
     "output_type": "stream",
     "text": [
      "Area: 6\n"
     ]
    }
   ],
   "source": [
    "class Area_Calc:\n",
    "    def area_form(self, length_cube, breath_cube, height_cube):\n",
    "        return length_cube * breath_cube * height_cube\n",
    "\n",
    "class Volume_Define:\n",
    "    def make_function_valid(self, length_cube, breath_cube, height_cube):\n",
    "        area_calc = Area_Calc()\n",
    "        area = area_calc.area_form(length_cube, breath_cube, height_cube)\n",
    "        print(\"Area:\", area)\n",
    "\n",
    "l_c = 1\n",
    "b_c = 2\n",
    "h_c = 3\n",
    "\n",
    "volume_def = Volume_Define()\n",
    "volume_def.make_function_valid(l_c, b_c, h_c)"
   ]
  },
  {
   "cell_type": "markdown",
   "metadata": {
    "id": "3GBxRoliXF5Q"
   },
   "source": [
    "#### 10. Data Extraction"
   ]
  },
  {
   "cell_type": "markdown",
   "metadata": {
    "id": "Tlx7QDIlXF5Q"
   },
   "source": [
    "\n",
    "Using python extract the data from api and transform it to the dataframe as attached below<br>\n",
    "api endpoint : \"https://api.open-meteo.com/v1/forecast?latitude=52.52&longitude=13.41&current_weather=true&hourly=temperature_2m,relativehumidity_2m,windspeed_10m\"<br>\n",
    "![Alt text](image.png)"
   ]
  },
  {
   "cell_type": "code",
   "execution_count": 10,
   "metadata": {
    "colab": {
     "base_uri": "https://localhost:8080/"
    },
    "id": "utbLxT87XF5Q",
    "outputId": "4b889595-5ed0-49de-9419-211b839a87ca"
   },
   "outputs": [
    {
     "name": "stdout",
     "output_type": "stream",
     "text": [
      "            Timestamp  Temperature (°C)  Relative Humidity (%)  \\\n",
      "0    2024-07-18T00:00              16.4                     85   \n",
      "1    2024-07-18T01:00              15.9                     88   \n",
      "2    2024-07-18T02:00              15.2                     91   \n",
      "3    2024-07-18T03:00              14.7                     93   \n",
      "4    2024-07-18T04:00              14.5                     93   \n",
      "..                ...               ...                    ...   \n",
      "163  2024-07-24T19:00              18.9                     52   \n",
      "164  2024-07-24T20:00              17.7                     58   \n",
      "165  2024-07-24T21:00              16.6                     64   \n",
      "166  2024-07-24T22:00              15.8                     68   \n",
      "167  2024-07-24T23:00              15.2                     71   \n",
      "\n",
      "     Wind Speed (m/s)  \n",
      "0                 7.1  \n",
      "1                 6.0  \n",
      "2                 4.5  \n",
      "3                 4.8  \n",
      "4                 5.5  \n",
      "..                ...  \n",
      "163               9.0  \n",
      "164               5.9  \n",
      "165               3.9  \n",
      "166               3.6  \n",
      "167               3.7  \n",
      "\n",
      "[168 rows x 4 columns]\n"
     ]
    }
   ],
   "source": [
    "import pandas as pd\n",
    "import requests\n",
    "api_endpoint = \"https://api.open-meteo.com/v1/forecast?latitude=52.52&longitude=13.41&current_weather=true&hourly=temperature_2m,relativehumidity_2m,windspeed_10m\"\n",
    "\n",
    "try:\n",
    "    response = requests.get(api_endpoint)\n",
    "    if response.status_code == 200:\n",
    "        df = pd.DataFrame(response.json()['hourly'])\n",
    "        df = df[['time', 'temperature_2m', 'relativehumidity_2m', 'windspeed_10m']]\n",
    "        df.columns = ['Timestamp', 'Temperature (°C)', 'Relative Humidity (%)', 'Wind Speed (m/s)']\n",
    "        print(df)\n",
    "\n",
    "    else:\n",
    "        print(f\"Failed to retrieve data. Status code: {response.status_code}\")\n",
    "\n",
    "except requests.exceptions.RequestException as e:\n",
    "    print(f\"Error fetching data: {e}\")\n"
   ]
  },
  {
   "cell_type": "markdown",
   "metadata": {
    "id": "zybGdqHjXF5Q"
   },
   "source": [
    "#### 11. Data Wrangling"
   ]
  },
  {
   "cell_type": "markdown",
   "metadata": {
    "id": "0G8eSlEcXF5Q"
   },
   "source": [
    "Your target format is in \"Base\" sheet of the excel.<br>\n",
    "Use other sheets in the excel to create a dataframe with the same structure as \"Base\"<br>\n",
    "Start with buying_price sheet <br>"
   ]
  },
  {
   "cell_type": "markdown",
   "metadata": {
    "id": "tiOzYS4JXF5Q"
   },
   "source": [
    "<a href=\"https://view.officeapps.live.com/op/view.aspx?src=https%3A%2F%2Fmarico-interview.s3.ap-south-1.amazonaws.com%2FBase%2Bdata.xlsx&wdOrigin=BROWSELINK\">Click here to view file</a>"
   ]
  },
  {
   "cell_type": "code",
   "execution_count": 13,
   "metadata": {
    "id": "W7qS8FiDXF5Q"
   },
   "outputs": [
    {
     "name": "stdout",
     "output_type": "stream",
     "text": [
      "Collecting openpyxl\n",
      "  Downloading openpyxl-3.1.5-py2.py3-none-any.whl.metadata (2.5 kB)\n",
      "Collecting et-xmlfile (from openpyxl)\n",
      "  Downloading et_xmlfile-1.1.0-py3-none-any.whl.metadata (1.8 kB)\n",
      "Downloading openpyxl-3.1.5-py2.py3-none-any.whl (250 kB)\n",
      "\u001b[2K   \u001b[90m━━━━━━━━━━━━━━━━━━━━━━━━━━━━━━━━━━━━━━━\u001b[0m \u001b[32m250.9/250.9 kB\u001b[0m \u001b[31m416.4 kB/s\u001b[0m eta \u001b[36m0:00:00\u001b[0ma \u001b[36m0:00:01\u001b[0m\n",
      "\u001b[?25hDownloading et_xmlfile-1.1.0-py3-none-any.whl (4.7 kB)\n",
      "Installing collected packages: et-xmlfile, openpyxl\n",
      "Successfully installed et-xmlfile-1.1.0 openpyxl-3.1.5\n",
      "\n",
      "\u001b[1m[\u001b[0m\u001b[34;49mnotice\u001b[0m\u001b[1;39;49m]\u001b[0m\u001b[39;49m A new release of pip is available: \u001b[0m\u001b[31;49m24.0\u001b[0m\u001b[39;49m -> \u001b[0m\u001b[32;49m24.1.2\u001b[0m\n",
      "\u001b[1m[\u001b[0m\u001b[34;49mnotice\u001b[0m\u001b[1;39;49m]\u001b[0m\u001b[39;49m To update, run: \u001b[0m\u001b[32;49mpip install --upgrade pip\u001b[0m\n"
     ]
    }
   ],
   "source": [
    "!pip install openpyxl\n",
    "\n",
    "import ssl\n",
    "import pandas as pd\n",
    "\n",
    "# Disable SSL certificate verification\n",
    "ssl._create_default_https_context = ssl._create_unverified_context\n",
    "\n",
    "# Read Excel file\n",
    "df = pd.read_excel('https://marico-interview.s3.ap-south-1.amazonaws.com/Base+data.xlsx')\n"
   ]
  },
  {
   "cell_type": "code",
   "execution_count": 14,
   "metadata": {
    "colab": {
     "base_uri": "https://localhost:8080/",
     "height": 360
    },
    "id": "fYF6GP2SXF5Q",
    "outputId": "afd423c8-0dee-4643-861b-0e88f0578b29"
   },
   "outputs": [
    {
     "data": {
      "text/html": [
       "<div>\n",
       "<style scoped>\n",
       "    .dataframe tbody tr th:only-of-type {\n",
       "        vertical-align: middle;\n",
       "    }\n",
       "\n",
       "    .dataframe tbody tr th {\n",
       "        vertical-align: top;\n",
       "    }\n",
       "\n",
       "    .dataframe thead th {\n",
       "        text-align: right;\n",
       "    }\n",
       "</style>\n",
       "<table border=\"1\" class=\"dataframe\">\n",
       "  <thead>\n",
       "    <tr style=\"text-align: right;\">\n",
       "      <th></th>\n",
       "      <th>date</th>\n",
       "      <th>total_supply</th>\n",
       "      <th>total_demand</th>\n",
       "      <th>buying_price</th>\n",
       "      <th>rainfall_over_all</th>\n",
       "      <th>coimbatore_rainfall</th>\n",
       "      <th>thanjavur_rainfall</th>\n",
       "      <th>theni_rainfall</th>\n",
       "      <th>dindigul_rainfall</th>\n",
       "      <th>erode_rainfall</th>\n",
       "      <th>...</th>\n",
       "      <th>odr malapuram_np</th>\n",
       "      <th>hunsur_np</th>\n",
       "      <th>tumkur_np</th>\n",
       "      <th>mandya_np</th>\n",
       "      <th>east godavari_np</th>\n",
       "      <th>konaseema_np</th>\n",
       "      <th>inflation</th>\n",
       "      <th>palm_oil</th>\n",
       "      <th>np_overall</th>\n",
       "      <th>arrival</th>\n",
       "    </tr>\n",
       "  </thead>\n",
       "  <tbody>\n",
       "    <tr>\n",
       "      <th>0</th>\n",
       "      <td>2017-04-01</td>\n",
       "      <td>1.634623</td>\n",
       "      <td>1.280625</td>\n",
       "      <td>96.308000</td>\n",
       "      <td>28.465871</td>\n",
       "      <td>17.4</td>\n",
       "      <td>0.2</td>\n",
       "      <td>7.7</td>\n",
       "      <td>24.2</td>\n",
       "      <td>69.0</td>\n",
       "      <td>...</td>\n",
       "      <td>74.818182</td>\n",
       "      <td>93.604839</td>\n",
       "      <td>72.87</td>\n",
       "      <td>116.216667</td>\n",
       "      <td>93.770992</td>\n",
       "      <td>73.240517</td>\n",
       "      <td>0.030</td>\n",
       "      <td>54.958333</td>\n",
       "      <td>1212.621314</td>\n",
       "      <td>17.0</td>\n",
       "    </tr>\n",
       "    <tr>\n",
       "      <th>1</th>\n",
       "      <td>2017-05-01</td>\n",
       "      <td>1.825453</td>\n",
       "      <td>1.300036</td>\n",
       "      <td>91.439000</td>\n",
       "      <td>129.035867</td>\n",
       "      <td>92.2</td>\n",
       "      <td>30.5</td>\n",
       "      <td>65.2</td>\n",
       "      <td>83.7</td>\n",
       "      <td>145.5</td>\n",
       "      <td>...</td>\n",
       "      <td>77.818182</td>\n",
       "      <td>92.433846</td>\n",
       "      <td>73.76</td>\n",
       "      <td>117.015217</td>\n",
       "      <td>93.713235</td>\n",
       "      <td>74.942969</td>\n",
       "      <td>0.022</td>\n",
       "      <td>55.423077</td>\n",
       "      <td>1293.357609</td>\n",
       "      <td>25.0</td>\n",
       "    </tr>\n",
       "    <tr>\n",
       "      <th>2</th>\n",
       "      <td>2017-06-01</td>\n",
       "      <td>1.204588</td>\n",
       "      <td>1.398301</td>\n",
       "      <td>89.730000</td>\n",
       "      <td>322.842314</td>\n",
       "      <td>68.3</td>\n",
       "      <td>70.7</td>\n",
       "      <td>50.8</td>\n",
       "      <td>37.6</td>\n",
       "      <td>22.0</td>\n",
       "      <td>...</td>\n",
       "      <td>77.363636</td>\n",
       "      <td>91.638710</td>\n",
       "      <td>71.46</td>\n",
       "      <td>111.763492</td>\n",
       "      <td>93.235294</td>\n",
       "      <td>71.360909</td>\n",
       "      <td>0.015</td>\n",
       "      <td>54.538462</td>\n",
       "      <td>1271.508054</td>\n",
       "      <td>29.0</td>\n",
       "    </tr>\n",
       "    <tr>\n",
       "      <th>3</th>\n",
       "      <td>2017-07-01</td>\n",
       "      <td>1.253024</td>\n",
       "      <td>1.557194</td>\n",
       "      <td>95.895238</td>\n",
       "      <td>280.563050</td>\n",
       "      <td>54.1</td>\n",
       "      <td>24.7</td>\n",
       "      <td>19.7</td>\n",
       "      <td>4.6</td>\n",
       "      <td>10.6</td>\n",
       "      <td>...</td>\n",
       "      <td>79.545455</td>\n",
       "      <td>92.269355</td>\n",
       "      <td>71.46</td>\n",
       "      <td>105.554386</td>\n",
       "      <td>84.588235</td>\n",
       "      <td>73.944776</td>\n",
       "      <td>0.024</td>\n",
       "      <td>53.000000</td>\n",
       "      <td>1213.754136</td>\n",
       "      <td>21.0</td>\n",
       "    </tr>\n",
       "    <tr>\n",
       "      <th>4</th>\n",
       "      <td>2017-08-01</td>\n",
       "      <td>1.610456</td>\n",
       "      <td>1.535237</td>\n",
       "      <td>102.890000</td>\n",
       "      <td>316.458723</td>\n",
       "      <td>124.0</td>\n",
       "      <td>237.7</td>\n",
       "      <td>83.7</td>\n",
       "      <td>149.6</td>\n",
       "      <td>91.1</td>\n",
       "      <td>...</td>\n",
       "      <td>83.272727</td>\n",
       "      <td>92.520968</td>\n",
       "      <td>72.08</td>\n",
       "      <td>112.713333</td>\n",
       "      <td>92.679389</td>\n",
       "      <td>79.144776</td>\n",
       "      <td>0.033</td>\n",
       "      <td>54.100000</td>\n",
       "      <td>1229.081199</td>\n",
       "      <td>29.0</td>\n",
       "    </tr>\n",
       "  </tbody>\n",
       "</table>\n",
       "<p>5 rows × 44 columns</p>\n",
       "</div>"
      ],
      "text/plain": [
       "        date  total_supply  total_demand  buying_price  rainfall_over_all  \\\n",
       "0 2017-04-01      1.634623      1.280625     96.308000          28.465871   \n",
       "1 2017-05-01      1.825453      1.300036     91.439000         129.035867   \n",
       "2 2017-06-01      1.204588      1.398301     89.730000         322.842314   \n",
       "3 2017-07-01      1.253024      1.557194     95.895238         280.563050   \n",
       "4 2017-08-01      1.610456      1.535237    102.890000         316.458723   \n",
       "\n",
       "   coimbatore_rainfall  thanjavur_rainfall  theni_rainfall  dindigul_rainfall  \\\n",
       "0                 17.4                 0.2             7.7               24.2   \n",
       "1                 92.2                30.5            65.2               83.7   \n",
       "2                 68.3                70.7            50.8               37.6   \n",
       "3                 54.1                24.7            19.7                4.6   \n",
       "4                124.0               237.7            83.7              149.6   \n",
       "\n",
       "   erode_rainfall  ...  odr malapuram_np  hunsur_np  tumkur_np   mandya_np  \\\n",
       "0            69.0  ...         74.818182  93.604839      72.87  116.216667   \n",
       "1           145.5  ...         77.818182  92.433846      73.76  117.015217   \n",
       "2            22.0  ...         77.363636  91.638710      71.46  111.763492   \n",
       "3            10.6  ...         79.545455  92.269355      71.46  105.554386   \n",
       "4            91.1  ...         83.272727  92.520968      72.08  112.713333   \n",
       "\n",
       "   east godavari_np  konaseema_np  inflation   palm_oil   np_overall  arrival  \n",
       "0         93.770992     73.240517      0.030  54.958333  1212.621314     17.0  \n",
       "1         93.713235     74.942969      0.022  55.423077  1293.357609     25.0  \n",
       "2         93.235294     71.360909      0.015  54.538462  1271.508054     29.0  \n",
       "3         84.588235     73.944776      0.024  53.000000  1213.754136     21.0  \n",
       "4         92.679389     79.144776      0.033  54.100000  1229.081199     29.0  \n",
       "\n",
       "[5 rows x 44 columns]"
      ]
     },
     "execution_count": 14,
     "metadata": {},
     "output_type": "execute_result"
    }
   ],
   "source": [
    "df.head()\n"
   ]
  },
  {
   "cell_type": "markdown",
   "metadata": {
    "id": "H4gBBiilXF5Q"
   },
   "source": [
    "#### 11 a. Treat NAs"
   ]
  },
  {
   "cell_type": "code",
   "execution_count": 15,
   "metadata": {
    "colab": {
     "base_uri": "https://localhost:8080/"
    },
    "id": "sfWsAyE5XF5Q",
    "outputId": "7c259f1a-6e39-4c1f-9add-eb3db3d7b28e"
   },
   "outputs": [
    {
     "name": "stdout",
     "output_type": "stream",
     "text": [
      "        date  total_supply  total_demand  buying_price  rainfall_over_all  \\\n",
      "0 2017-04-01      1.634623      1.280625     96.308000          28.465871   \n",
      "1 2017-05-01      1.825453      1.300036     91.439000         129.035867   \n",
      "2 2017-06-01      1.204588      1.398301     89.730000         322.842314   \n",
      "3 2017-07-01      1.253024      1.557194     95.895238         280.563050   \n",
      "4 2017-08-01      1.610456      1.535237    102.890000         316.458723   \n",
      "\n",
      "   coimbatore_rainfall  thanjavur_rainfall  theni_rainfall  dindigul_rainfall  \\\n",
      "0                 17.4                 0.2             7.7               24.2   \n",
      "1                 92.2                30.5            65.2               83.7   \n",
      "2                 68.3                70.7            50.8               37.6   \n",
      "3                 54.1                24.7            19.7                4.6   \n",
      "4                124.0               237.7            83.7              149.6   \n",
      "\n",
      "   erode_rainfall  ...  odr malapuram_np  hunsur_np  tumkur_np   mandya_np  \\\n",
      "0            69.0  ...         74.818182  93.604839      72.87  116.216667   \n",
      "1           145.5  ...         77.818182  92.433846      73.76  117.015217   \n",
      "2            22.0  ...         77.363636  91.638710      71.46  111.763492   \n",
      "3            10.6  ...         79.545455  92.269355      71.46  105.554386   \n",
      "4            91.1  ...         83.272727  92.520968      72.08  112.713333   \n",
      "\n",
      "   east godavari_np  konaseema_np  inflation   palm_oil   np_overall  arrival  \n",
      "0         93.770992     73.240517      0.030  54.958333  1212.621314     17.0  \n",
      "1         93.713235     74.942969      0.022  55.423077  1293.357609     25.0  \n",
      "2         93.235294     71.360909      0.015  54.538462  1271.508054     29.0  \n",
      "3         84.588235     73.944776      0.024  53.000000  1213.754136     21.0  \n",
      "4         92.679389     79.144776      0.033  54.100000  1229.081199     29.0  \n",
      "\n",
      "[5 rows x 44 columns]\n"
     ]
    }
   ],
   "source": [
    "df_filled = df.fillna(df.mean())\n",
    "print(df_filled.head())"
   ]
  },
  {
   "cell_type": "markdown",
   "metadata": {
    "id": "bjHDqiyuXF5R"
   },
   "source": [
    "#### 11 b. Get average and Sum of all the Columns using group by"
   ]
  },
  {
   "cell_type": "code",
   "execution_count": 16,
   "metadata": {
    "colab": {
     "base_uri": "https://localhost:8080/"
    },
    "id": "RQQMlQHrXF5R",
    "outputId": "6d80ee27-58ad-4205-ef7b-41316f0683ba"
   },
   "outputs": [
    {
     "name": "stdout",
     "output_type": "stream",
     "text": [
      "           total_supply           total_demand           buying_price  \\\n",
      "                   mean       sum         mean       sum         mean   \n",
      "date                                                                    \n",
      "2017-04-01     1.634623  1.634623     1.280625  1.280625    96.308000   \n",
      "2017-05-01     1.825453  1.825453     1.300036  1.300036    91.439000   \n",
      "2017-06-01     1.204588  1.204588     1.398301  1.398301    89.730000   \n",
      "2017-07-01     1.253024  1.253024     1.557194  1.557194    95.895238   \n",
      "2017-08-01     1.610456  1.610456     1.535237  1.535237   102.890000   \n",
      "...                 ...       ...          ...       ...          ...   \n",
      "2022-11-01     1.220000  1.220000     1.276190  1.276190          NaN   \n",
      "2022-12-01     1.160000  1.160000     1.247080  1.247080          NaN   \n",
      "2023-01-01     1.160000  1.160000     1.255903  1.255903          NaN   \n",
      "2023-02-01     1.365418  1.365418     1.271814  1.271814          NaN   \n",
      "2023-03-01     1.817105  1.817105     1.360471  1.360471          NaN   \n",
      "\n",
      "                       rainfall_over_all             coimbatore_rainfall  \\\n",
      "                   sum              mean         sum                mean   \n",
      "date                                                                       \n",
      "2017-04-01   96.308000         28.465871   28.465871                17.4   \n",
      "2017-05-01   91.439000        129.035867  129.035867                92.2   \n",
      "2017-06-01   89.730000        322.842314  322.842314                68.3   \n",
      "2017-07-01   95.895238        280.563050  280.563050                54.1   \n",
      "2017-08-01  102.890000        316.458723  316.458723               124.0   \n",
      "...                ...               ...         ...                 ...   \n",
      "2022-11-01    0.000000               NaN    0.000000                 NaN   \n",
      "2022-12-01    0.000000               NaN    0.000000                 NaN   \n",
      "2023-01-01    0.000000               NaN    0.000000                 NaN   \n",
      "2023-02-01    0.000000               NaN    0.000000                 NaN   \n",
      "2023-03-01    0.000000               NaN    0.000000                 NaN   \n",
      "\n",
      "                   ... konaseema_np            inflation          palm_oil  \\\n",
      "              sum  ...         mean        sum      mean    sum       mean   \n",
      "date               ...                                                       \n",
      "2017-04-01   17.4  ...    73.240517  73.240517     0.030  0.030  54.958333   \n",
      "2017-05-01   92.2  ...    74.942969  74.942969     0.022  0.022  55.423077   \n",
      "2017-06-01   68.3  ...    71.360909  71.360909     0.015  0.015  54.538462   \n",
      "2017-07-01   54.1  ...    73.944776  73.944776     0.024  0.024  53.000000   \n",
      "2017-08-01  124.0  ...    79.144776  79.144776     0.033  0.033  54.100000   \n",
      "...           ...  ...          ...        ...       ...    ...        ...   \n",
      "2022-11-01    0.0  ...          NaN   0.000000       NaN  0.000        NaN   \n",
      "2022-12-01    0.0  ...          NaN   0.000000       NaN  0.000        NaN   \n",
      "2023-01-01    0.0  ...          NaN   0.000000       NaN  0.000        NaN   \n",
      "2023-02-01    0.0  ...          NaN   0.000000       NaN  0.000        NaN   \n",
      "2023-03-01    0.0  ...          NaN   0.000000       NaN  0.000        NaN   \n",
      "\n",
      "                        np_overall              arrival        \n",
      "                  sum         mean          sum    mean   sum  \n",
      "date                                                           \n",
      "2017-04-01  54.958333  1212.621314  1212.621314    17.0  17.0  \n",
      "2017-05-01  55.423077  1293.357609  1293.357609    25.0  25.0  \n",
      "2017-06-01  54.538462  1271.508054  1271.508054    29.0  29.0  \n",
      "2017-07-01  53.000000  1213.754136  1213.754136    21.0  21.0  \n",
      "2017-08-01  54.100000  1229.081199  1229.081199    29.0  29.0  \n",
      "...               ...          ...          ...     ...   ...  \n",
      "2022-11-01   0.000000          NaN     0.000000     NaN   0.0  \n",
      "2022-12-01   0.000000          NaN     0.000000     NaN   0.0  \n",
      "2023-01-01   0.000000          NaN     0.000000     NaN   0.0  \n",
      "2023-02-01   0.000000          NaN     0.000000     NaN   0.0  \n",
      "2023-03-01   0.000000          NaN     0.000000     NaN   0.0  \n",
      "\n",
      "[72 rows x 86 columns]\n"
     ]
    }
   ],
   "source": [
    "grouped = df.groupby('date').agg(['mean', 'sum'])\n",
    "print(grouped)"
   ]
  },
  {
   "cell_type": "markdown",
   "metadata": {
    "id": "2rvCh0QkXF5R"
   },
   "source": [
    "#### 11 c. Treat Outliers beyond 5th percentile and 95th percentile using winsorization"
   ]
  },
  {
   "cell_type": "code",
   "execution_count": 17,
   "metadata": {
    "colab": {
     "base_uri": "https://localhost:8080/"
    },
    "id": "x4htmm5gXF5R",
    "outputId": "8df403e9-7ce5-4ce8-a9aa-fff0808faa8b"
   },
   "outputs": [
    {
     "name": "stdout",
     "output_type": "stream",
     "text": [
      "        date  total_supply  total_demand  buying_price  rainfall_over_all  \\\n",
      "0 2017-04-01      1.634623      1.280625     96.308000          28.465871   \n",
      "1 2017-05-01      1.818398      1.300036     91.439000         129.035867   \n",
      "2 2017-06-01      1.204588      1.398301     91.439000         322.842314   \n",
      "3 2017-07-01      1.253024      1.557194     95.895238         280.563050   \n",
      "4 2017-08-01      1.610456      1.535237    102.890000         316.458723   \n",
      "\n",
      "   coimbatore_rainfall  thanjavur_rainfall  theni_rainfall  dindigul_rainfall  \\\n",
      "0                 17.4                 0.2             7.7               24.2   \n",
      "1                 92.2                30.5            65.2               83.7   \n",
      "2                 68.3                70.7            50.8               37.6   \n",
      "3                 54.1                24.7            19.7                4.6   \n",
      "4                124.0               237.7            83.7              149.6   \n",
      "\n",
      "   erode_rainfall  ...  odr malapuram_np  hunsur_np  tumkur_np   mandya_np  \\\n",
      "0            69.0  ...         74.818182  93.604839  72.870000  116.216667   \n",
      "1           145.5  ...         77.818182  92.433846  73.760000  117.015217   \n",
      "2            22.0  ...         77.363636  91.638710  72.278873  111.763492   \n",
      "3            10.6  ...         79.545455  92.269355  72.278873  105.554386   \n",
      "4            91.1  ...         83.272727  92.520968  72.278873  112.713333   \n",
      "\n",
      "   east godavari_np  konaseema_np  inflation   palm_oil   np_overall  arrival  \n",
      "0         93.770992     73.240517      0.030  54.958333  1212.621314     17.0  \n",
      "1         93.713235     74.942969      0.022  55.423077  1293.357609     25.0  \n",
      "2         93.235294     71.360909      0.022  54.958333  1271.508054     29.0  \n",
      "3         84.588235     73.944776      0.024  54.958333  1213.754136     21.0  \n",
      "4         92.679389     79.144776      0.033  54.958333  1229.081199     29.0  \n",
      "\n",
      "[5 rows x 44 columns]\n"
     ]
    }
   ],
   "source": [
    "from scipy.stats.mstats import winsorize\n",
    "\n",
    "columns_to_winsorize = df.columns.difference(['date'])\n",
    "df_winsorized = df.copy()\n",
    "df_winsorized[columns_to_winsorize] = df_winsorized[columns_to_winsorize].apply(lambda x: winsorize(x, limits=[0.05, 0.05]))\n",
    "\n",
    "print(df_winsorized.head())"
   ]
  },
  {
   "cell_type": "markdown",
   "metadata": {
    "id": "VWe_xAYAXF5R"
   },
   "source": [
    "#### 11 d. Create correlation matrix for the prepared data<br>What preliminary conclusions can be derived from this matrix?"
   ]
  },
  {
   "cell_type": "code",
   "execution_count": 18,
   "metadata": {
    "colab": {
     "base_uri": "https://localhost:8080/"
    },
    "id": "ZpIV9jlOXF5R",
    "outputId": "14f75d17-f838-4244-8d25-1c3df057150b"
   },
   "outputs": [
    {
     "name": "stdout",
     "output_type": "stream",
     "text": [
      "                            date  total_supply  total_demand  buying_price  \\\n",
      "date                    1.000000      0.072160      0.169228     -0.210919   \n",
      "total_supply            0.072160      1.000000      0.420681     -0.304931   \n",
      "total_demand            0.169228      0.420681      1.000000     -0.323293   \n",
      "buying_price           -0.210919     -0.304931     -0.323293      1.000000   \n",
      "rainfall_over_all       0.018738      0.070565      0.161873     -0.281738   \n",
      "coimbatore_rainfall     0.211343      0.056729      0.183880     -0.153763   \n",
      "thanjavur_rainfall      0.153676     -0.288421      0.101736     -0.019648   \n",
      "theni_rainfall          0.079744     -0.001661      0.131030      0.021824   \n",
      "dindigul_rainfall       0.139335     -0.057607      0.168019     -0.028433   \n",
      "erode_rainfall          0.064138      0.100321      0.241793     -0.137820   \n",
      "tiruppur_rainfall       0.052029     -0.096875      0.086138      0.032754   \n",
      "kanyakumari_rainfall    0.139630     -0.088938     -0.027174     -0.042428   \n",
      "calicut_rainfall       -0.015627      0.096224      0.126525     -0.268939   \n",
      "kasargod_rainfall       0.007186      0.044080      0.105186     -0.301568   \n",
      "thrissur_rainfall       0.029283      0.100337      0.210026     -0.293591   \n",
      "malapuram_rainfall     -0.081820      0.101700      0.172667     -0.210125   \n",
      "kannur_rainfall        -0.014803      0.081427      0.113977     -0.285331   \n",
      "tumkur_rainfall         0.205654      0.138668      0.235810     -0.222829   \n",
      "hassan_rainfall         0.138107      0.274457      0.300201     -0.266232   \n",
      "mysore_rainfall         0.047326      0.265619      0.331999     -0.280961   \n",
      "mandya_rainfall         0.134625      0.260198      0.320386     -0.234913   \n",
      "srikakulam_rainfall    -0.052455      0.016762      0.292649     -0.232388   \n",
      "chitradurga_rainfall    0.202628      0.092952      0.202146     -0.187868   \n",
      "east godavari_rainfall  0.011817      0.009738      0.214915     -0.219906   \n",
      "pollachi_np             0.715520      0.199996      0.269042     -0.589157   \n",
      "pollachi north_np       0.838657      0.196558      0.280584     -0.558069   \n",
      "tanjore_np             -0.730391      0.004891     -0.019795      0.291383   \n",
      "theni_np               -0.847966     -0.014166     -0.273686      0.276396   \n",
      "dindigul_np             0.565169      0.322248      0.464246     -0.435363   \n",
      "erode_np                0.594681      0.096269      0.100836     -0.427616   \n",
      "odr calicut_np          0.011272     -0.005907     -0.217734      0.347804   \n",
      "odr kasargod_np        -0.139308      0.084529      0.162044      0.349495   \n",
      "odr thrissur_np         0.305606      0.024434      0.166917      0.104399   \n",
      "odr kannur_np           0.281900      0.147463      0.116815      0.202244   \n",
      "odr malapuram_np       -0.017469     -0.064945      0.078077     -0.072802   \n",
      "hunsur_np              -0.318759      0.097173      0.271535     -0.185548   \n",
      "tumkur_np               0.702249     -0.071345      0.214135     -0.177128   \n",
      "mandya_np              -0.792163     -0.053741      0.027381      0.005395   \n",
      "east godavari_np       -0.535015      0.036190     -0.058628      0.063146   \n",
      "konaseema_np           -0.262827      0.032748     -0.008559      0.051744   \n",
      "inflation               0.646523     -0.048896     -0.039628      0.042628   \n",
      "palm_oil                0.899797      0.157042      0.261336     -0.091496   \n",
      "np_overall             -0.363148      0.122630      0.121652      0.061650   \n",
      "arrival                 0.486102      0.532398      0.296186     -0.326826   \n",
      "\n",
      "                        rainfall_over_all  coimbatore_rainfall  \\\n",
      "date                             0.018738             0.211343   \n",
      "total_supply                     0.070565             0.056729   \n",
      "total_demand                     0.161873             0.183880   \n",
      "buying_price                    -0.281738            -0.153763   \n",
      "rainfall_over_all                1.000000             0.828778   \n",
      "coimbatore_rainfall              0.828778             1.000000   \n",
      "thanjavur_rainfall               0.221138             0.367901   \n",
      "theni_rainfall                   0.531186             0.743589   \n",
      "dindigul_rainfall                0.305976             0.525237   \n",
      "erode_rainfall                   0.341346             0.554737   \n",
      "tiruppur_rainfall                0.232718             0.491836   \n",
      "kanyakumari_rainfall             0.453086             0.560920   \n",
      "calicut_rainfall                 0.958308             0.735456   \n",
      "kasargod_rainfall                0.926964             0.670921   \n",
      "thrissur_rainfall                0.954574             0.805472   \n",
      "malapuram_rainfall               0.945354             0.760764   \n",
      "kannur_rainfall                  0.958090             0.710566   \n",
      "tumkur_rainfall                  0.573684             0.650949   \n",
      "hassan_rainfall                  0.793437             0.834118   \n",
      "mysore_rainfall                  0.650512             0.746208   \n",
      "mandya_rainfall                  0.476155             0.613701   \n",
      "srikakulam_rainfall              0.654318             0.571274   \n",
      "chitradurga_rainfall             0.648330             0.728433   \n",
      "east godavari_rainfall           0.782416             0.639454   \n",
      "pollachi_np                     -0.010935             0.092158   \n",
      "pollachi north_np                0.067051             0.156523   \n",
      "tanjore_np                       0.033302            -0.039217   \n",
      "theni_np                        -0.153850            -0.321550   \n",
      "dindigul_np                     -0.072653             0.009675   \n",
      "erode_np                         0.073899             0.093919   \n",
      "odr calicut_np                   0.100698             0.111491   \n",
      "odr kasargod_np                 -0.016098             0.029188   \n",
      "odr thrissur_np                 -0.217009            -0.015651   \n",
      "odr kannur_np                   -0.202272             0.012847   \n",
      "odr malapuram_np                 0.019283             0.065495   \n",
      "hunsur_np                       -0.124747            -0.071816   \n",
      "tumkur_np                       -0.198420            -0.018493   \n",
      "mandya_np                       -0.127197            -0.228827   \n",
      "east godavari_np                -0.047689            -0.124604   \n",
      "konaseema_np                     0.007130             0.032966   \n",
      "inflation                       -0.017092             0.109341   \n",
      "palm_oil                        -0.045211             0.161103   \n",
      "np_overall                      -0.084915            -0.064052   \n",
      "arrival                          0.247727             0.208198   \n",
      "\n",
      "                        thanjavur_rainfall  theni_rainfall  dindigul_rainfall  \\\n",
      "date                              0.153676        0.079744           0.139335   \n",
      "total_supply                     -0.288421       -0.001661          -0.057607   \n",
      "total_demand                      0.101736        0.131030           0.168019   \n",
      "buying_price                     -0.019648        0.021824          -0.028433   \n",
      "rainfall_over_all                 0.221138        0.531186           0.305976   \n",
      "coimbatore_rainfall               0.367901        0.743589           0.525237   \n",
      "thanjavur_rainfall                1.000000        0.576464           0.784764   \n",
      "theni_rainfall                    0.576464        1.000000           0.802401   \n",
      "dindigul_rainfall                 0.784764        0.802401           1.000000   \n",
      "erode_rainfall                    0.491790        0.691459           0.823076   \n",
      "tiruppur_rainfall                 0.650525        0.806407           0.890861   \n",
      "kanyakumari_rainfall              0.541938        0.769001           0.588461   \n",
      "calicut_rainfall                  0.085099        0.412901           0.157179   \n",
      "kasargod_rainfall                 0.159653        0.360411           0.174420   \n",
      "thrissur_rainfall                 0.170835        0.510146           0.225538   \n",
      "malapuram_rainfall                0.128518        0.499189           0.195130   \n",
      "kannur_rainfall                   0.097699        0.378110           0.148055   \n",
      "tumkur_rainfall                   0.377850        0.614836           0.683001   \n",
      "hassan_rainfall                   0.208545        0.620860           0.400406   \n",
      "mysore_rainfall                   0.306916        0.652826           0.508840   \n",
      "mandya_rainfall                   0.359397        0.639049           0.674159   \n",
      "srikakulam_rainfall               0.248836        0.326845           0.289666   \n",
      "chitradurga_rainfall              0.347128        0.655625           0.624528   \n",
      "east godavari_rainfall            0.140217        0.272850           0.137440   \n",
      "pollachi_np                       0.081359       -0.095273           0.025664   \n",
      "pollachi north_np                 0.066231       -0.043739           0.061153   \n",
      "tanjore_np                       -0.036310        0.159905           0.067043   \n",
      "theni_np                         -0.264074       -0.199719          -0.268943   \n",
      "dindigul_np                       0.075114       -0.047250           0.038906   \n",
      "erode_np                          0.033986       -0.062008          -0.025630   \n",
      "odr calicut_np                   -0.118540        0.141892          -0.053193   \n",
      "odr kasargod_np                  -0.054226        0.123959          -0.034680   \n",
      "odr thrissur_np                   0.039405        0.174951           0.121639   \n",
      "odr kannur_np                     0.013430        0.035115           0.000588   \n",
      "odr malapuram_np                  0.079066        0.141974           0.086642   \n",
      "hunsur_np                         0.084645        0.188760           0.156594   \n",
      "tumkur_np                         0.128538       -0.024385           0.047378   \n",
      "mandya_np                        -0.023408       -0.032158          -0.041263   \n",
      "east godavari_np                 -0.086543        0.034891          -0.095596   \n",
      "konaseema_np                      0.041125        0.113736           0.003732   \n",
      "inflation                        -0.033210        0.070644           0.048881   \n",
      "palm_oil                          0.106841        0.096314           0.143326   \n",
      "np_overall                       -0.045706        0.119547          -0.013624   \n",
      "arrival                          -0.233709        0.028573          -0.108018   \n",
      "\n",
      "                        erode_rainfall  ...  odr malapuram_np  hunsur_np  \\\n",
      "date                          0.064138  ...         -0.017469  -0.318759   \n",
      "total_supply                  0.100321  ...         -0.064945   0.097173   \n",
      "total_demand                  0.241793  ...          0.078077   0.271535   \n",
      "buying_price                 -0.137820  ...         -0.072802  -0.185548   \n",
      "rainfall_over_all             0.341346  ...          0.019283  -0.124747   \n",
      "coimbatore_rainfall           0.554737  ...          0.065495  -0.071816   \n",
      "thanjavur_rainfall            0.491790  ...          0.079066   0.084645   \n",
      "theni_rainfall                0.691459  ...          0.141974   0.188760   \n",
      "dindigul_rainfall             0.823076  ...          0.086642   0.156594   \n",
      "erode_rainfall                1.000000  ...          0.170429   0.248868   \n",
      "tiruppur_rainfall             0.803609  ...          0.098683   0.180511   \n",
      "kanyakumari_rainfall          0.534828  ...          0.133808   0.057629   \n",
      "calicut_rainfall              0.207337  ...         -0.018493  -0.149057   \n",
      "kasargod_rainfall             0.169131  ...         -0.054232  -0.187601   \n",
      "thrissur_rainfall             0.282263  ...          0.020801  -0.084595   \n",
      "malapuram_rainfall            0.254868  ...          0.061081  -0.012601   \n",
      "kannur_rainfall               0.177884  ...         -0.011007  -0.163646   \n",
      "tumkur_rainfall               0.733186  ...          0.101948  -0.029880   \n",
      "hassan_rainfall               0.530210  ...          0.066704  -0.066298   \n",
      "mysore_rainfall               0.658982  ...          0.136201   0.092538   \n",
      "mandya_rainfall               0.850568  ...          0.143785   0.056709   \n",
      "srikakulam_rainfall           0.399596  ...          0.138830   0.099693   \n",
      "chitradurga_rainfall          0.666822  ...          0.042103  -0.078734   \n",
      "east godavari_rainfall        0.174733  ...          0.084291  -0.061416   \n",
      "pollachi_np                   0.066235  ...         -0.121728  -0.185425   \n",
      "pollachi north_np             0.052748  ...         -0.194881  -0.282604   \n",
      "tanjore_np                    0.122956  ...          0.317994   0.471343   \n",
      "theni_np                     -0.206517  ...         -0.082090   0.140961   \n",
      "dindigul_np                   0.098275  ...          0.123513   0.121988   \n",
      "erode_np                     -0.031311  ...         -0.267175  -0.240449   \n",
      "odr calicut_np               -0.040667  ...          0.493680   0.085976   \n",
      "odr kasargod_np               0.026597  ...          0.586970   0.327544   \n",
      "odr thrissur_np               0.103252  ...          0.583466   0.378642   \n",
      "odr kannur_np                -0.000561  ...          0.443308   0.334578   \n",
      "odr malapuram_np              0.170429  ...          1.000000   0.439065   \n",
      "hunsur_np                     0.248868  ...          0.439065   1.000000   \n",
      "tumkur_np                     0.026871  ...          0.030167   0.054161   \n",
      "mandya_np                     0.007290  ...          0.135936   0.572382   \n",
      "east godavari_np             -0.001131  ...          0.324329   0.655027   \n",
      "konaseema_np                  0.064162  ...          0.133292   0.522837   \n",
      "inflation                    -0.039254  ...          0.036303  -0.478638   \n",
      "palm_oil                      0.095126  ...          0.099066  -0.170896   \n",
      "np_overall                    0.097696  ...          0.625046   0.763848   \n",
      "arrival                       0.101113  ...          0.197055   0.113354   \n",
      "\n",
      "                        tumkur_np  mandya_np  east godavari_np  konaseema_np  \\\n",
      "date                     0.702249  -0.792163         -0.535015     -0.262827   \n",
      "total_supply            -0.071345  -0.053741          0.036190      0.032748   \n",
      "total_demand             0.214135   0.027381         -0.058628     -0.008559   \n",
      "buying_price            -0.177128   0.005395          0.063146      0.051744   \n",
      "rainfall_over_all       -0.198420  -0.127197         -0.047689      0.007130   \n",
      "coimbatore_rainfall     -0.018493  -0.228827         -0.124604      0.032966   \n",
      "thanjavur_rainfall       0.128538  -0.023408         -0.086543      0.041125   \n",
      "theni_rainfall          -0.024385  -0.032158          0.034891      0.113736   \n",
      "dindigul_rainfall        0.047378  -0.041263         -0.095596      0.003732   \n",
      "erode_rainfall           0.026871   0.007290         -0.001131      0.064162   \n",
      "tiruppur_rainfall        0.018013   0.033068         -0.051199      0.013408   \n",
      "kanyakumari_rainfall     0.025060  -0.120603         -0.044623      0.064809   \n",
      "calicut_rainfall        -0.237154  -0.127943         -0.015377      0.008986   \n",
      "kasargod_rainfall       -0.186686  -0.155629         -0.076042     -0.029033   \n",
      "thrissur_rainfall       -0.140617  -0.147832         -0.027809      0.041692   \n",
      "malapuram_rainfall      -0.214927  -0.043560          0.087149      0.095436   \n",
      "kannur_rainfall         -0.238767  -0.132644         -0.017990      0.003803   \n",
      "tumkur_rainfall         -0.021968  -0.177228         -0.197993     -0.080181   \n",
      "hassan_rainfall         -0.061458  -0.182579         -0.093752      0.009944   \n",
      "mysore_rainfall         -0.086518  -0.028669         -0.031853      0.037507   \n",
      "mandya_rainfall         -0.038522  -0.108107         -0.159739     -0.086590   \n",
      "srikakulam_rainfall     -0.177635  -0.004623          0.056981      0.109878   \n",
      "chitradurga_rainfall    -0.036692  -0.209807         -0.209819     -0.077129   \n",
      "east godavari_rainfall  -0.196757  -0.105466          0.012290      0.063797   \n",
      "pollachi_np              0.451092  -0.483885         -0.573808     -0.401637   \n",
      "pollachi north_np        0.552746  -0.625041         -0.643757     -0.426153   \n",
      "tanjore_np              -0.668036   0.493179          0.397673      0.053152   \n",
      "theni_np                -0.564269   0.629982          0.529581      0.323565   \n",
      "dindigul_np              0.465488  -0.333038         -0.302567     -0.194912   \n",
      "erode_np                 0.521263  -0.376974         -0.213045      0.065906   \n",
      "odr calicut_np          -0.052185   0.008904          0.451562      0.418859   \n",
      "odr kasargod_np         -0.081310   0.095290          0.345527      0.220916   \n",
      "odr thrissur_np          0.454317  -0.064342          0.335247      0.320547   \n",
      "odr kannur_np            0.330395  -0.080722          0.314303      0.374715   \n",
      "odr malapuram_np         0.030167   0.135936          0.324329      0.133292   \n",
      "hunsur_np                0.054161   0.572382          0.655027      0.522837   \n",
      "tumkur_np                1.000000  -0.351473         -0.094461      0.179186   \n",
      "mandya_np               -0.351473   1.000000          0.713931      0.519390   \n",
      "east godavari_np        -0.094461   0.713931          1.000000      0.876781   \n",
      "konaseema_np             0.179186   0.519390          0.876781      1.000000   \n",
      "inflation                0.305549  -0.730013         -0.707309     -0.659572   \n",
      "palm_oil                 0.601591  -0.759701         -0.506537     -0.323527   \n",
      "np_overall              -0.041207   0.549364          0.847291      0.689323   \n",
      "arrival                  0.395301  -0.314547          0.198012      0.313816   \n",
      "\n",
      "                        inflation  palm_oil  np_overall   arrival  \n",
      "date                     0.646523  0.899797   -0.363148  0.486102  \n",
      "total_supply            -0.048896  0.157042    0.122630  0.532398  \n",
      "total_demand            -0.039628  0.261336    0.121652  0.296186  \n",
      "buying_price             0.042628 -0.091496    0.061650 -0.326826  \n",
      "rainfall_over_all       -0.017092 -0.045211   -0.084915  0.247727  \n",
      "coimbatore_rainfall      0.109341  0.161103   -0.064052  0.208198  \n",
      "thanjavur_rainfall      -0.033210  0.106841   -0.045706 -0.233709  \n",
      "theni_rainfall           0.070644  0.096314    0.119547  0.028573  \n",
      "dindigul_rainfall        0.048881  0.143326   -0.013624 -0.108018  \n",
      "erode_rainfall          -0.039254  0.095126    0.097696  0.101113  \n",
      "tiruppur_rainfall        0.061481  0.064699    0.014258 -0.143145  \n",
      "kanyakumari_rainfall     0.072144  0.156897    0.043925  0.087246  \n",
      "calicut_rainfall        -0.045407 -0.066906   -0.062543  0.292964  \n",
      "kasargod_rainfall       -0.011418 -0.080926   -0.151010  0.233311  \n",
      "thrissur_rainfall       -0.040683 -0.003696   -0.026695  0.302677  \n",
      "malapuram_rainfall      -0.101241 -0.107333    0.051219  0.269164  \n",
      "kannur_rainfall         -0.034105 -0.080881   -0.084706  0.278984  \n",
      "tumkur_rainfall          0.111203  0.180285   -0.121445  0.154676  \n",
      "hassan_rainfall          0.066523  0.093647   -0.047057  0.312366  \n",
      "mysore_rainfall         -0.053554  0.031705    0.034232  0.175232  \n",
      "mandya_rainfall          0.062134  0.139707   -0.052259  0.171759  \n",
      "srikakulam_rainfall     -0.117759 -0.108645    0.019613  0.174839  \n",
      "chitradurga_rainfall     0.163299  0.158113   -0.165720  0.132945  \n",
      "east godavari_rainfall  -0.026690 -0.065935   -0.038504  0.187194  \n",
      "pollachi_np              0.353731  0.655320   -0.414507  0.232769  \n",
      "pollachi north_np        0.537574  0.725843   -0.512784  0.294646  \n",
      "tanjore_np              -0.327779 -0.447536    0.538292 -0.280579  \n",
      "theni_np                -0.524726 -0.858374    0.282210 -0.378334  \n",
      "dindigul_np              0.166167  0.705068   -0.005437  0.382204  \n",
      "erode_np                 0.129140  0.382406   -0.246624  0.368473  \n",
      "odr calicut_np          -0.051285  0.044425    0.542030  0.348818  \n",
      "odr kasargod_np         -0.133846  0.128309    0.653585  0.233349  \n",
      "odr thrissur_np          0.166053  0.397297    0.577685  0.341824  \n",
      "odr kannur_np           -0.081804  0.469106    0.591680  0.471664  \n",
      "odr malapuram_np         0.036303  0.099066    0.625046  0.197055  \n",
      "hunsur_np               -0.478638 -0.170896    0.763848  0.113354  \n",
      "tumkur_np                0.305549  0.601591   -0.041207  0.395301  \n",
      "mandya_np               -0.730013 -0.759701    0.549364 -0.314547  \n",
      "east godavari_np        -0.707309 -0.506537    0.847291  0.198012  \n",
      "konaseema_np            -0.659572 -0.323527    0.689323  0.313816  \n",
      "inflation                1.000000  0.618127   -0.519780  0.024629  \n",
      "palm_oil                 0.618127  1.000000   -0.185058  0.454509  \n",
      "np_overall              -0.519780 -0.185058    1.000000  0.270409  \n",
      "arrival                  0.024629  0.454509    0.270409  1.000000  \n",
      "\n",
      "[44 rows x 44 columns]\n"
     ]
    }
   ],
   "source": [
    "correlation_matrix = df.corr()\n",
    "print(correlation_matrix)"
   ]
  }
 ],
 "metadata": {
  "colab": {
   "provenance": []
  },
  "kernelspec": {
   "display_name": "Python 3 (ipykernel)",
   "language": "python",
   "name": "python3"
  },
  "language_info": {
   "codemirror_mode": {
    "name": "ipython",
    "version": 3
   },
   "file_extension": ".py",
   "mimetype": "text/x-python",
   "name": "python",
   "nbconvert_exporter": "python",
   "pygments_lexer": "ipython3",
   "version": "3.11.2"
  }
 },
 "nbformat": 4,
 "nbformat_minor": 4
}
